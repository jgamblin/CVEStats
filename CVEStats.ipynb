{
  "nbformat": 4,
  "nbformat_minor": 2,
  "metadata": {
    "kernelspec": {
      "name": "python3",
      "display_name": "Python 3.9.6 64-bit"
    },
    "language_info": {
      "codemirror_mode": {
        "name": "ipython",
        "version": 3
      },
      "file_extension": ".py",
      "mimetype": "text/x-python",
      "name": "python",
      "nbconvert_exporter": "python",
      "pygments_lexer": "ipython3",
      "version": "3.9.6"
    },
    "colab": {
      "name": "CVEStats.ipynb",
      "provenance": [],
      "toc_visible": true,
      "include_colab_link": true
    },
    "interpreter": {
      "hash": "aee8b7b246df8f9039afb4144a1f6fd8d2ca17a180786b69acc140d282b71a49"
    }
  },
  "cells": [
    {
      "cell_type": "markdown",
      "source": [
        "<a href=\"https://colab.research.google.com/github/jgamblin/CVEStats/blob/main/CVEStats.ipynb\" target=\"_parent\"><img src=\"https://colab.research.google.com/assets/colab-badge.svg\" alt=\"Open In Colab\"/></a>"
      ],
      "metadata": {
        "id": "view-in-github",
        "colab_type": "text"
      }
    },
    {
      "cell_type": "markdown",
      "source": [
        "# CVE Stats Notebook"
      ],
      "metadata": {
        "id": "8f4I_NZyBpxt"
      }
    },
    {
      "cell_type": "markdown",
      "source": [
        "This notebook will pull all [JSON Data](https://nvd.nist.gov/vuln/data-feeds#JSON_FEED) from the NVD and performs some basic data analysis.  "
      ],
      "metadata": {
        "id": "nVlZw_5ZBpxu"
      }
    },
    {
      "cell_type": "markdown",
      "source": [
        "## Getting Started"
      ],
      "metadata": {
        "id": "iJMSGWeJBpxv"
      }
    },
    {
      "cell_type": "markdown",
      "source": [
        "### Retrieve The Data"
      ],
      "metadata": {
        "id": "TaGgZPX4Bpxv"
      }
    },
    {
      "cell_type": "markdown",
      "source": [
        "This cell pulls all JSON files from the NVD that we will be working with."
      ],
      "metadata": {
        "id": "6Fk-MIzoBpxw"
      }
    },
    {
      "cell_type": "code",
      "execution_count": 1,
      "source": [
        "%%capture\n",
        "!mkdir -p jsondata\n",
        "%cd jsondata\n",
        "!rm *.json \n",
        "!rm *.zip \n",
        "!wget https://nvd.nist.gov/feeds/json/cve/1.1/nvdcve-1.1-{2002..2021}.json.zip \n",
        "!unzip -o \"*.zip\" "
      ],
      "outputs": [],
      "metadata": {
        "id": "AIsPLxG0Bpxw"
      }
    },
    {
      "cell_type": "markdown",
      "source": [
        "(Note: The Output of this cell is hidden with `%%capture`)"
      ],
      "metadata": {
        "id": "e4TAiT-vBpxw"
      }
    },
    {
      "cell_type": "markdown",
      "source": [
        "### Import Python Libraries "
      ],
      "metadata": {
        "id": "yj_0cF0tBpxx"
      }
    },
    {
      "cell_type": "code",
      "execution_count": 2,
      "source": [
        "import glob\n",
        "import json\n",
        "import matplotlib.pyplot as plt\n",
        "import missingno as msno\n",
        "import numpy as np\n",
        "import os\n",
        "import pandas as pd\n",
        "import re\n",
        "import uuid\n",
        "from datetime import datetime"
      ],
      "outputs": [
        {
          "output_type": "error",
          "ename": "ModuleNotFoundError",
          "evalue": "No module named 'missingno'",
          "traceback": [
            "\u001b[0;31m---------------------------------------------------------------------------\u001b[0m",
            "\u001b[0;31mModuleNotFoundError\u001b[0m                       Traceback (most recent call last)",
            "\u001b[0;32m/var/folders/kc/2nxb49w55ld5l618h1dhd1jm0000gn/T/ipykernel_2845/3444509074.py\u001b[0m in \u001b[0;36m<module>\u001b[0;34m\u001b[0m\n\u001b[1;32m      2\u001b[0m \u001b[0;32mimport\u001b[0m \u001b[0mjson\u001b[0m\u001b[0;34m\u001b[0m\u001b[0;34m\u001b[0m\u001b[0m\n\u001b[1;32m      3\u001b[0m \u001b[0;32mimport\u001b[0m \u001b[0mmatplotlib\u001b[0m\u001b[0;34m.\u001b[0m\u001b[0mpyplot\u001b[0m \u001b[0;32mas\u001b[0m \u001b[0mplt\u001b[0m\u001b[0;34m\u001b[0m\u001b[0;34m\u001b[0m\u001b[0m\n\u001b[0;32m----> 4\u001b[0;31m \u001b[0;32mimport\u001b[0m \u001b[0mmissingno\u001b[0m \u001b[0;32mas\u001b[0m \u001b[0mmsno\u001b[0m\u001b[0;34m\u001b[0m\u001b[0;34m\u001b[0m\u001b[0m\n\u001b[0m\u001b[1;32m      5\u001b[0m \u001b[0;32mimport\u001b[0m \u001b[0mnumpy\u001b[0m \u001b[0;32mas\u001b[0m \u001b[0mnp\u001b[0m\u001b[0;34m\u001b[0m\u001b[0;34m\u001b[0m\u001b[0m\n\u001b[1;32m      6\u001b[0m \u001b[0;32mimport\u001b[0m \u001b[0mos\u001b[0m\u001b[0;34m\u001b[0m\u001b[0;34m\u001b[0m\u001b[0m\n",
            "\u001b[0;31mModuleNotFoundError\u001b[0m: No module named 'missingno'"
          ]
        }
      ],
      "metadata": {
        "id": "K8cJCw8tBpxx"
      }
    },
    {
      "cell_type": "markdown",
      "source": [
        "### Build Base DataFrame"
      ],
      "metadata": {
        "id": "sFvIJPloBpxx"
      }
    },
    {
      "cell_type": "markdown",
      "source": [
        "This code builds a Panda dataframe from the JSON files we downloaded, removing all CVE's marked rejected."
      ],
      "metadata": {
        "id": "TAmZHDdiBpxx"
      }
    },
    {
      "cell_type": "code",
      "execution_count": null,
      "source": [
        "row_accumulator = []\n",
        "for filename in glob.glob('*.json'):\n",
        "    with open(filename, 'r', encoding='utf-8') as f:\n",
        "        nvd_data = json.load(f)\n",
        "        for entry in nvd_data['CVE_Items']:\n",
        "            cve = entry['cve']['CVE_data_meta']['ID']\n",
        "            try:\n",
        "                published_date = entry['publishedDate']\n",
        "            except KeyError:\n",
        "                published_date = 'Missing_Data_JG'\n",
        "            try:\n",
        "                attack_vector = entry['impact']['baseMetricV3']['cvssV3']['attackVector']\n",
        "            except KeyError:\n",
        "                attack_vector = 'Missing_Data_JG'\n",
        "            try:\n",
        "                attack_complexity = entry['impact']['baseMetricV3']['cvssV3']['attackComplexity']\n",
        "            except KeyError:\n",
        "                attack_complexity = 'Missing_Data_JG'\n",
        "            try:\n",
        "                privileges_required = entry['impact']['baseMetricV3']['cvssV3']['privilegesRequired']\n",
        "            except KeyError:\n",
        "                privileges_required = 'Missing_Data_JG'\n",
        "            try:\n",
        "                user_interaction = entry['impact']['baseMetricV3']['cvssV3']['userInteraction']\n",
        "            except KeyError:\n",
        "                user_interaction = 'Missing_Data_JG'\n",
        "            try:\n",
        "                scope = entry['impact']['baseMetricV3']['cvssV3']['scope']\n",
        "            except KeyError:\n",
        "                scope = 'Missing_Data_JG'\n",
        "            try:\n",
        "                confidentiality_impact = entry['impact']['baseMetricV3']['cvssV3']['confidentialityImpact']\n",
        "            except KeyError:\n",
        "                confidentiality_impact = 'Missing_Data_JG'\n",
        "            try:\n",
        "                integrity_impact = entry['impact']['baseMetricV3']['cvssV3']['integrityImpact']\n",
        "            except KeyError:\n",
        "                integrity_impact = 'Missing_Data_JG'\n",
        "            try:\n",
        "                availability_impact = entry['impact']['baseMetricV3']['cvssV3']['availabilityImpact']\n",
        "            except KeyError:\n",
        "                availability_impact = 'Missing_Data_JG'\n",
        "            try:\n",
        "                base_score = entry['impact']['baseMetricV3']['cvssV3']['baseScore']\n",
        "            except KeyError:\n",
        "                base_score = 'Missing_Data_JG'\n",
        "            try:\n",
        "                base_severity = entry['impact']['baseMetricV3']['cvssV3']['baseSeverity']\n",
        "            except KeyError:\n",
        "                base_severity = 'Missing_Data_JG'\n",
        "            try:\n",
        "                exploitability_score = entry['impact']['baseMetricV3']['exploitabilityScore']\n",
        "            except KeyError:\n",
        "                exploitability_score = 'Missing_Data_JG'\n",
        "            try:\n",
        "                impact_score = entry['impact']['baseMetricV3']['impactScore']\n",
        "            except KeyError:\n",
        "                impact_score = 'Missing_Data_JG'\n",
        "            try:\n",
        "                cwe = entry['cve']['problemtype']['problemtype_data'][0]['description'][0]['value']\n",
        "            except IndexError:\n",
        "                cwe = 'Missing_Data_JG'\n",
        "            try:\n",
        "                description = entry['cve']['description']['description_data'][0]['value']\n",
        "            except IndexError:\n",
        "                description = ''\n",
        "            new_row = { \n",
        "                'CVE': cve, \n",
        "                'Published': published_date,\n",
        "                'AttackVector': attack_vector,\n",
        "                'AttackComplexity': attack_complexity,\n",
        "                'PrivilegesRequired': privileges_required,\n",
        "                'UserInteraction': user_interaction,\n",
        "                'Scope': scope,\n",
        "                'ConfidentialityImpact': confidentiality_impact,\n",
        "                'IntegrityImpact': integrity_impact,\n",
        "                'AvailabilityImpact': availability_impact,\n",
        "                'BaseScore': base_score,\n",
        "                'BaseSeverity': base_severity,\n",
        "                'ExploitabilityScore': exploitability_score,\n",
        "                'ImpactScore': impact_score,\n",
        "                'CWE': cwe,\n",
        "                'Description': description\n",
        "            }\n",
        "            if not description.startswith('** REJECT **'): # disputed, rejected and other non issues start with '**'\n",
        "                row_accumulator.append(new_row)\n",
        "    nvd = pd.DataFrame(row_accumulator)\n",
        "\n",
        "nvd['Published'] = pd.to_datetime(nvd['Published']).apply(lambda x: x.date())\n",
        "print ('CVEs from NVD:', nvd['CVE'].count())\n",
        "nvdcount = nvd['Published'].count()\n",
        "nvdunique = nvd['Published'].nunique()\n",
        "per_day = nvdcount/nvdunique\n",
        "per_day = round(per_day, 0)\n",
        "print('CVEs Published Per Publishing Day:', per_day)"
      ],
      "outputs": [
        {
          "output_type": "stream",
          "name": "stdout",
          "text": [
            "CVEs from NVD: 146450\n",
            "CVEs Published Per Publishing Day: 24.0\n"
          ]
        }
      ],
      "metadata": {
        "colab": {
          "base_uri": "https://localhost:8080/"
        },
        "id": "GSyKyG7wBpxy",
        "outputId": "265c19b3-df3e-4148-b6ba-ce3e2dc85d60"
      }
    },
    {
      "cell_type": "markdown",
      "source": [
        "(Note: The code for building this dataframe is based off the great work in this [repo](https://github.com/joocer/mitre-tools/blob/74a08bca9e79f2c18cc4e8671d1d7da5b43a2dd4/source/data/02%20process_rawdata.py))"
      ],
      "metadata": {
        "id": "9yxojnA8Bpxy"
      }
    },
    {
      "cell_type": "markdown",
      "source": [
        "### CVEs Per Day Graph"
      ],
      "metadata": {
        "id": "Q3tJQO1fBpxz"
      }
    },
    {
      "cell_type": "code",
      "execution_count": null,
      "source": [
        "nvd_data = nvd['Published'].value_counts()\n",
        "cg = nvd_data.plot(colormap='jet', marker='.', figsize=(16, 8), markersize=2, title='CVEs Per Day')\n",
        "plt.grid()\n",
        "cg.set_ylabel(\"New CVEs\")\n",
        "cg.set_xlabel(\"Date\")\n",
        "plt.savefig('CVEs.jpg', dpi=300, bbox_inches='tight')"
      ],
      "outputs": [
        {
          "output_type": "execute_result",
          "data": {
            "text/plain": [
              "Text(0.5, 0, 'Date')"
            ]
          },
          "metadata": {
            "tags": []
          },
          "execution_count": 4
        },
        {
          "output_type": "display_data",
          "data": {
            "text/plain": [
              "<Figure size 1152x576 with 1 Axes>"
            ],
            "image/png": "[encoded data removed]"
          },
          "metadata": {
            "tags": [],
            "needs_background": "light"
          }
        }
      ],
      "metadata": {
        "colab": {
          "base_uri": "https://localhost:8080/",
          "height": 530
        },
        "id": "ZB5UWpEIBpxz",
        "outputId": "64032c3d-eb1d-40aa-87df-553e2d572853"
      }
    },
    {
      "cell_type": "markdown",
      "source": [
        "### Most CVEs Per Day "
      ],
      "metadata": {
        "id": "ceHQXbmVBpxz"
      }
    },
    {
      "cell_type": "code",
      "execution_count": null,
      "source": [
        "nvd['Published'].value_counts().head(10)"
      ],
      "outputs": [
        {
          "output_type": "execute_result",
          "data": {
            "text/plain": [
              "2004-12-31    1098\n",
              "2005-05-02     816\n",
              "2002-12-31     791\n",
              "2020-04-15     508\n",
              "2003-12-31     441\n",
              "2018-07-09     431\n",
              "2005-12-31     384\n",
              "2019-12-18     364\n",
              "2018-06-11     349\n",
              "2018-02-15     340\n",
              "Name: Published, dtype: int64"
            ]
          },
          "metadata": {
            "tags": []
          },
          "execution_count": 5
        }
      ],
      "metadata": {
        "colab": {
          "base_uri": "https://localhost:8080/"
        },
        "id": "oSCNXjNWBpxz",
        "outputId": "05d9bdff-98e1-47d9-e306-2eecfbade3a4"
      }
    }
  ]
}